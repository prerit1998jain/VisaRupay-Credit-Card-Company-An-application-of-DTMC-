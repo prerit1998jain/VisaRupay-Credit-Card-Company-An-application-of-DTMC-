{
 "cells": [
  {
   "cell_type": "code",
   "execution_count": 19,
   "metadata": {},
   "outputs": [],
   "source": [
    "import numpy as np\n",
    "import pydtmc"
   ]
  },
  {
   "cell_type": "code",
   "execution_count": 33,
   "metadata": {},
   "outputs": [
    {
     "data": {
      "text/plain": [
       "['__class__',\n",
       " '__delattr__',\n",
       " '__dict__',\n",
       " '__dir__',\n",
       " '__doc__',\n",
       " '__eq__',\n",
       " '__format__',\n",
       " '__ge__',\n",
       " '__getattribute__',\n",
       " '__gt__',\n",
       " '__hash__',\n",
       " '__init__',\n",
       " '__init_subclass__',\n",
       " '__le__',\n",
       " '__lt__',\n",
       " '__module__',\n",
       " '__ne__',\n",
       " '__new__',\n",
       " '__reduce__',\n",
       " '__reduce_ex__',\n",
       " '__repr__',\n",
       " '__setattr__',\n",
       " '__sizeof__',\n",
       " '__str__',\n",
       " '__subclasshook__',\n",
       " '__weakref__',\n",
       " '_absorbing_states_indices',\n",
       " '_calculate_period',\n",
       " '_communicating_classes_indices',\n",
       " '_create_rng',\n",
       " '_cyclic_classes_indices',\n",
       " '_cyclic_states_indices',\n",
       " '_gth_solve',\n",
       " '_recurrent_classes_indices',\n",
       " '_recurrent_states_indices',\n",
       " '_slem',\n",
       " '_states_indices',\n",
       " '_transient_classes_indices',\n",
       " '_transient_states_indices',\n",
       " 'absorbing_states',\n",
       " 'absorption_probabilities',\n",
       " 'absorption_times',\n",
       " 'accessibility_matrix',\n",
       " 'adjacency_matrix',\n",
       " 'are_communicating',\n",
       " 'backward_committor',\n",
       " 'backward_committor_probabilities',\n",
       " 'birth_death',\n",
       " 'communicating_classes',\n",
       " 'conditional_distribution',\n",
       " 'conditional_probabilities',\n",
       " 'cyclic_classes',\n",
       " 'cyclic_states',\n",
       " 'entropy_rate',\n",
       " 'entropy_rate_normalized',\n",
       " 'expected_rewards',\n",
       " 'expected_transitions',\n",
       " 'fit_map',\n",
       " 'fit_mle',\n",
       " 'forward_committor',\n",
       " 'forward_committor_probabilities',\n",
       " 'from_matrix',\n",
       " 'fundamental_matrix',\n",
       " 'hitting_probabilities',\n",
       " 'identity',\n",
       " 'is_absorbing',\n",
       " 'is_absorbing_state',\n",
       " 'is_accessible',\n",
       " 'is_aperiodic',\n",
       " 'is_canonical',\n",
       " 'is_cyclic_state',\n",
       " 'is_ergodic',\n",
       " 'is_irreducible',\n",
       " 'is_recurrent_state',\n",
       " 'is_reversible',\n",
       " 'is_transient_state',\n",
       " 'kemeny_constant',\n",
       " 'mean_first_passage_times',\n",
       " 'mean_first_passage_times_between',\n",
       " 'mean_first_passage_times_to',\n",
       " 'mfpt',\n",
       " 'mfpt_between',\n",
       " 'mfpt_to',\n",
       " 'mixing_rate',\n",
       " 'mixing_time',\n",
       " 'p',\n",
       " 'period',\n",
       " 'periods',\n",
       " 'pi',\n",
       " 'predict',\n",
       " 'random',\n",
       " 'recurrent_classes',\n",
       " 'recurrent_states',\n",
       " 'redistribute',\n",
       " 'relaxation_rate',\n",
       " 'sensitivity',\n",
       " 'size',\n",
       " 'states',\n",
       " 'stationary_distributions',\n",
       " 'steady_states',\n",
       " 'to_canonical',\n",
       " 'to_canonical_form',\n",
       " 'to_digraph',\n",
       " 'to_directed_graph',\n",
       " 'to_lazy_chain',\n",
       " 'to_subchain',\n",
       " 'topological_entropy',\n",
       " 'transient_classes',\n",
       " 'transient_states',\n",
       " 'transition_probability',\n",
       " 'walk',\n",
       " 'walk_probability']"
      ]
     },
     "execution_count": 33,
     "metadata": {},
     "output_type": "execute_result"
    }
   ],
   "source": [
    "dir(mc)"
   ]
  },
  {
   "cell_type": "code",
   "execution_count": 42,
   "metadata": {},
   "outputs": [],
   "source": [
    "dtmc = mc(p, ['1','2','3','4'])"
   ]
  },
  {
   "cell_type": "code",
   "execution_count": 44,
   "metadata": {},
   "outputs": [
    {
     "ename": "TypeError",
     "evalue": "'cachedproperty' object is not callable",
     "output_type": "error",
     "traceback": [
      "\u001b[0;31m---------------------------------------------------------------------------\u001b[0m",
      "\u001b[0;31mTypeError\u001b[0m                                 Traceback (most recent call last)",
      "\u001b[0;32m<ipython-input-44-bba549a4f252>\u001b[0m in \u001b[0;36m<module>\u001b[0;34m\u001b[0m\n\u001b[0;32m----> 1\u001b[0;31m \u001b[0mprint\u001b[0m\u001b[0;34m(\u001b[0m\u001b[0mdtmc\u001b[0m\u001b[0;34m.\u001b[0m\u001b[0mstationary_distributions\u001b[0m\u001b[0;34m(\u001b[0m\u001b[0;34m)\u001b[0m\u001b[0;34m)\u001b[0m\u001b[0;34m\u001b[0m\u001b[0;34m\u001b[0m\u001b[0m\n\u001b[0m",
      "\u001b[0;32m~/anaconda3/lib/python3.6/site-packages/pydtmc/decorators.py\u001b[0m in \u001b[0;36minner\u001b[0;34m(*args, **kwargs)\u001b[0m\n\u001b[1;32m    122\u001b[0m         \u001b[0;34m@\u001b[0m\u001b[0m_wraps\u001b[0m\u001b[0;34m(\u001b[0m\u001b[0mfunc\u001b[0m\u001b[0;34m)\u001b[0m\u001b[0;34m\u001b[0m\u001b[0;34m\u001b[0m\u001b[0m\n\u001b[1;32m    123\u001b[0m         \u001b[0;32mdef\u001b[0m \u001b[0minner\u001b[0m\u001b[0;34m(\u001b[0m\u001b[0;34m*\u001b[0m\u001b[0margs\u001b[0m\u001b[0;34m,\u001b[0m \u001b[0;34m**\u001b[0m\u001b[0mkwargs\u001b[0m\u001b[0;34m)\u001b[0m\u001b[0;34m:\u001b[0m\u001b[0;34m\u001b[0m\u001b[0;34m\u001b[0m\u001b[0m\n\u001b[0;32m--> 124\u001b[0;31m             \u001b[0;32mreturn\u001b[0m \u001b[0mfunc\u001b[0m\u001b[0;34m(\u001b[0m\u001b[0;34m*\u001b[0m\u001b[0margs\u001b[0m\u001b[0;34m,\u001b[0m \u001b[0;34m**\u001b[0m\u001b[0mkwargs\u001b[0m\u001b[0;34m)\u001b[0m\u001b[0;34m\u001b[0m\u001b[0;34m\u001b[0m\u001b[0m\n\u001b[0m\u001b[1;32m    125\u001b[0m         \u001b[0;32mreturn\u001b[0m \u001b[0minner\u001b[0m\u001b[0;34m\u001b[0m\u001b[0;34m\u001b[0m\u001b[0m\n\u001b[1;32m    126\u001b[0m \u001b[0;34m\u001b[0m\u001b[0m\n",
      "\u001b[0;31mTypeError\u001b[0m: 'cachedproperty' object is not callable"
     ]
    }
   ],
   "source": [
    "dtmc.stationary_distributions"
   ]
  },
  {
   "cell_type": "code",
   "execution_count": null,
   "metadata": {},
   "outputs": [],
   "source": []
  }
 ],
 "metadata": {
  "kernelspec": {
   "display_name": "Python 3",
   "language": "python",
   "name": "python3"
  },
  "language_info": {
   "codemirror_mode": {
    "name": "ipython",
    "version": 3
   },
   "file_extension": ".py",
   "mimetype": "text/x-python",
   "name": "python",
   "nbconvert_exporter": "python",
   "pygments_lexer": "ipython3",
   "version": "3.6.9"
  }
 },
 "nbformat": 4,
 "nbformat_minor": 2
}
