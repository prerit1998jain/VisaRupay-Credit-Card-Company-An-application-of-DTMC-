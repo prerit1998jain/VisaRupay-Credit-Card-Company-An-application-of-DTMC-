{
 "cells": [
  {
   "cell_type": "markdown",
   "metadata": {},
   "source": [
    "# CASE STUDY: VISA RUPAY CREDIT CARD COMPANY\n",
    "\n",
    "## VisaRuPay Credit Card Company\n",
    "\n",
    "VisaRuPay is a consumer credit card company that has a large number of customers (or accounts). These customers charge some of their purchases on their VisaRuPay cards. The charges made in one month are due by the end of the next month. If a customer fails to make\n",
    "the minimum payment in a given month, the company flags the account as delinquent. The company keeps track of the payment history of each customer so that it can identify customers who are likely to default on their obligations and not pay their debt to the company.\n",
    "\n",
    "### STATE DESCRIPTIONS\n",
    "\n",
    "Customer's State (or stage) k: if he or she has missed making the minimum payment for the last k consecutive months.\n",
    "\n",
    "#### Four possible futures: \n",
    "a) Minimum payment (or more) and move to stage 0. </br> \n",
    "<br> b) Make no payment (or less than the minimum payment) and move to stage k+1. </br>\n",
    "<br> c) Default by declaring bankruptcy, thus moving to stage D or the company can cancel the customer’s card and terminate the account. (state C). </br> \n",
    "\n",
    "#### Current Policy (Pc)\n",
    "\n",
    "Currently the company has a simple policy: it terminates an account as soon as it misses seven minimum payments in a row and writes off the remaining outstanding balance on that account as a loss.\n",
    "\n",
    "\n",
    "  | k | 0 | 1 | 2 | 3 | 4 | 5 | 6 |\n",
    "  | --- | --- | --- | --- | --- | --- | --- | --- |\n",
    "  | pk | 0.033 | 0.048 | 0.090 | 0.165 | 0.212 | 0.287 | 0.329 |\n",
    "  | qk | 0.030 | 0.021 | 0.037 | 0.052 | 0.075 | 0.135 | 0.182 |\n",
    "  | bk | 1243.78 | 2090.33 | 2615.16 | 3073.13 | 3502.99 | 3905.77 | 4280.26 |\n",
    "\n",
    "where,\n",
    "\n",
    "pk:  Probability that a customer in state k fails to make the minimum payment in the current period and thus moves to state k+1. </br>\n",
    "<br> qk:  Probability that a customer in state k declares bankruptcy in the current period and thus moves to state D. </br>\n",
    "<br> bk:  Average outstanding balance of a customer in state k. </br>\n"
   ]
  },
  {
   "cell_type": "code",
   "execution_count": 50,
   "metadata": {},
   "outputs": [],
   "source": [
    "# IMPORTING THE NECESSARY LIBRARIES\n",
    "import numpy as np\n",
    "from pydtmc import MarkovChain as mc"
   ]
  },
  {
   "cell_type": "code",
   "execution_count": 51,
   "metadata": {
    "scrolled": true
   },
   "outputs": [
    {
     "data": {
      "text/plain": [
       "['__class__',\n",
       " '__delattr__',\n",
       " '__dict__',\n",
       " '__dir__',\n",
       " '__doc__',\n",
       " '__eq__',\n",
       " '__format__',\n",
       " '__ge__',\n",
       " '__getattribute__',\n",
       " '__gt__',\n",
       " '__hash__',\n",
       " '__init__',\n",
       " '__init_subclass__',\n",
       " '__le__',\n",
       " '__lt__',\n",
       " '__module__',\n",
       " '__ne__',\n",
       " '__new__',\n",
       " '__reduce__',\n",
       " '__reduce_ex__',\n",
       " '__repr__',\n",
       " '__setattr__',\n",
       " '__sizeof__',\n",
       " '__str__',\n",
       " '__subclasshook__',\n",
       " '__weakref__',\n",
       " '_absorbing_states_indices',\n",
       " '_calculate_period',\n",
       " '_communicating_classes_indices',\n",
       " '_create_rng',\n",
       " '_cyclic_classes_indices',\n",
       " '_cyclic_states_indices',\n",
       " '_gth_solve',\n",
       " '_recurrent_classes_indices',\n",
       " '_recurrent_states_indices',\n",
       " '_slem',\n",
       " '_states_indices',\n",
       " '_transient_classes_indices',\n",
       " '_transient_states_indices',\n",
       " 'absorbing_states',\n",
       " 'absorption_probabilities',\n",
       " 'absorption_times',\n",
       " 'accessibility_matrix',\n",
       " 'adjacency_matrix',\n",
       " 'are_communicating',\n",
       " 'backward_committor',\n",
       " 'backward_committor_probabilities',\n",
       " 'birth_death',\n",
       " 'communicating_classes',\n",
       " 'conditional_distribution',\n",
       " 'conditional_probabilities',\n",
       " 'cyclic_classes',\n",
       " 'cyclic_states',\n",
       " 'entropy_rate',\n",
       " 'entropy_rate_normalized',\n",
       " 'expected_rewards',\n",
       " 'expected_transitions',\n",
       " 'fit_map',\n",
       " 'fit_mle',\n",
       " 'forward_committor',\n",
       " 'forward_committor_probabilities',\n",
       " 'from_matrix',\n",
       " 'fundamental_matrix',\n",
       " 'hitting_probabilities',\n",
       " 'identity',\n",
       " 'is_absorbing',\n",
       " 'is_absorbing_state',\n",
       " 'is_accessible',\n",
       " 'is_aperiodic',\n",
       " 'is_canonical',\n",
       " 'is_cyclic_state',\n",
       " 'is_ergodic',\n",
       " 'is_irreducible',\n",
       " 'is_recurrent_state',\n",
       " 'is_reversible',\n",
       " 'is_transient_state',\n",
       " 'kemeny_constant',\n",
       " 'mean_first_passage_times',\n",
       " 'mean_first_passage_times_between',\n",
       " 'mean_first_passage_times_to',\n",
       " 'mfpt',\n",
       " 'mfpt_between',\n",
       " 'mfpt_to',\n",
       " 'mixing_rate',\n",
       " 'mixing_time',\n",
       " 'p',\n",
       " 'period',\n",
       " 'periods',\n",
       " 'pi',\n",
       " 'predict',\n",
       " 'random',\n",
       " 'recurrent_classes',\n",
       " 'recurrent_states',\n",
       " 'redistribute',\n",
       " 'relaxation_rate',\n",
       " 'sensitivity',\n",
       " 'size',\n",
       " 'states',\n",
       " 'stationary_distributions',\n",
       " 'steady_states',\n",
       " 'to_canonical',\n",
       " 'to_canonical_form',\n",
       " 'to_digraph',\n",
       " 'to_directed_graph',\n",
       " 'to_lazy_chain',\n",
       " 'to_subchain',\n",
       " 'topological_entropy',\n",
       " 'transient_classes',\n",
       " 'transient_states',\n",
       " 'transition_probability',\n",
       " 'walk',\n",
       " 'walk_probability']"
      ]
     },
     "execution_count": 51,
     "metadata": {},
     "output_type": "execute_result"
    }
   ],
   "source": [
    "dir(mc)"
   ]
  },
  {
   "cell_type": "markdown",
   "metadata": {},
   "source": [
    "###  Question\n",
    "1) Build a stochastic model using DTMC to help the management of VisaRuPay analyze the performance of this policy in a rational way. Assume that the state of an account changes in a Markov fashion and when a customer account is terminated or the customer declares bankruptcy, it simply replaces that account with an active one, so that number of accounts does not change. "
   ]
  },
  {
   "cell_type": "markdown",
   "metadata": {},
   "source": [
    "## TRANSITION PROBABILITY MATRIX"
   ]
  },
  {
   "cell_type": "code",
   "execution_count": 64,
   "metadata": {
    "scrolled": true
   },
   "outputs": [
    {
     "name": "stdout",
     "output_type": "stream",
     "text": [
      "[0.967, 0.952, 0.91, 0.835, 0.788, 0.713, 0.618]\n",
      "[[0.967, 0.033, 0, 0, 0, 0, 0], [0.952, 0, 0.048, 0, 0, 0, 0], [0.91, 0, 0, 0.09, 0, 0, 0], [0.835, 0, 0, 0, 0.165, 0, 0], [0.788, 0, 0, 0, 0, 0.212, 0], [0.713, 0, 0, 0, 0, 0, 0.287], [1.0, 0, 0, 0, 0, 0, 0]]\n"
     ]
    }
   ],
   "source": [
    "p = [0.033,0.048,0.090,0.165,0.212,0.287,0.382]\n",
    "p_bar = [round((1-i),3) for i in p]\n",
    "print(p_bar)\n",
    "declare_bankruptcy = [0.30,0.021,0.037,0.052,0.075,0.135,0.182]\n",
    "out_bal = [1243.78,2090.33,2615.16,3073.13,3502.99,3905.77,4280.26]\n",
    "\n",
    "n_states = 7\n",
    "# Defining the TPM\n",
    "TPM = []\n",
    "for i in range(n_states):\n",
    "    l = []\n",
    "    if i == 6:\n",
    "        l.append(p_bar[i]+p[i])\n",
    "    else:\n",
    "        l.append(p_bar[i])\n",
    "    for j in range(1,n_states):\n",
    "        if j==i+1:\n",
    "            l.append(p[i])\n",
    "        else:\n",
    "            l.append(0)\n",
    "    \n",
    "    TPM.append(l)\n",
    "print(TPM)"
   ]
  },
  {
   "cell_type": "code",
   "execution_count": 66,
   "metadata": {
    "scrolled": true
   },
   "outputs": [
    {
     "name": "stdout",
     "output_type": "stream",
     "text": [
      "\n",
      "DISCRETE-TIME MARKOV CHAIN\n",
      " SIZE:         7\n",
      " CLASSES:      1\n",
      "  - RECURRENT: 1\n",
      "  - TRANSIENT: 0\n",
      " ABSORBING:    NO\n",
      " APERIODIC:    YES\n",
      " IRREDUCIBLE:  YES\n",
      " ERGODIC:      YES\n",
      "\n"
     ]
    }
   ],
   "source": [
    "# Stochastic process\n",
    "\n",
    "process = mc(TPM, ['0','1','2','3','4','5','6'])\n",
    "print(process)"
   ]
  },
  {
   "cell_type": "markdown",
   "metadata": {},
   "source": [
    "## Question\n",
    "\n",
    "2. Analyze the current policy (Pc), which terminates an account as soon as it misses the seventh minimum payment in a row by assuming expected annual loss due to bankruptcies and account closures as performance measure."
   ]
  },
  {
   "cell_type": "code",
   "execution_count": 81,
   "metadata": {},
   "outputs": [
    {
     "name": "stdout",
     "output_type": "stream",
     "text": [
      "[9.66410938e-01 3.18915610e-02 1.53079493e-03 1.37771543e-04\n",
      " 2.27323046e-05 4.81924858e-06 1.38312434e-06]\n"
     ]
    }
   ],
   "source": [
    "# STATIONARY DISTRIBUTION \n",
    "\n",
    "stat_dist = (process.pi)\n",
    "print(stat_dist[0])"
   ]
  },
  {
   "cell_type": "code",
   "execution_count": null,
   "metadata": {},
   "outputs": [],
   "source": []
  }
 ],
 "metadata": {
  "kernelspec": {
   "display_name": "Python 3",
   "language": "python",
   "name": "python3"
  },
  "language_info": {
   "codemirror_mode": {
    "name": "ipython",
    "version": 3
   },
   "file_extension": ".py",
   "mimetype": "text/x-python",
   "name": "python",
   "nbconvert_exporter": "python",
   "pygments_lexer": "ipython3",
   "version": "3.6.9"
  }
 },
 "nbformat": 4,
 "nbformat_minor": 2
}
