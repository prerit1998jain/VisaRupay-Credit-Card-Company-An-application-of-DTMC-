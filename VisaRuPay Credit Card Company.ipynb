{
 "cells": [
  {
   "cell_type": "markdown",
   "metadata": {},
   "source": [
    "# CASE STUDY: VISA RUPAY CREDIT CARD COMPANY\n",
    "\n",
    "## VisaRuPay Credit Card Company\n",
    "\n",
    "VisaRuPay is a consumer credit card company that has a large number of customers (or accounts). These customers charge some of their purchases on their VisaRuPay cards. The charges made in one month are due by the end of the next month. If a customer fails to make\n",
    "the minimum payment in a given month, the company flags the account as delinquent. The company keeps track of the payment history of each customer so that it can identify customers who are likely to default on their obligations and not pay their debt to the company.\n",
    "\n",
    "### STATE DESCRIPTIONS\n",
    "\n",
    "Customer's State (or stage) k: if he or she has missed making the minimum payment for the last k consecutive months.\n",
    "\n",
    "#### Four possible futures: \n",
    "a) Minimum payment (or more) and move to stage 0. </br> \n",
    "<br> b) Make no payment (or less than the minimum payment) and move to stage k+1. </br>\n",
    "<br> c) Default by declaring bankruptcy, thus moving to stage D or the company can cancel the customer’s card and terminate the account. (state C). </br> \n",
    "\n",
    "#### Current Policy (Pc)\n",
    "\n",
    "Currently the company has a simple policy: it terminates an account as soon as it misses seven minimum payments in a row and writes off the remaining outstanding balance on that account as a loss.\n",
    "\n",
    "\n",
    "  | k | 0 | 1 | 2 | 3 | 4 | 5 | 6 |\n",
    "  | --- | --- | --- | --- | --- | --- | --- | --- |\n",
    "  | pk | 0.033 | 0.048 | 0.090 | 0.165 | 0.212 | 0.287 | 0.329 |\n",
    "  | qk | 0.030 | 0.021 | 0.037 | 0.052 | 0.075 | 0.135 | 0.182 |\n",
    "  | bk | 1243.78 | 2090.33 | 2615.16 | 3073.13 | 3502.99 | 3905.77 | 4280.26 |\n",
    "\n",
    "where,\n",
    "\n",
    "pk:  Probability that a customer in state k fails to make the minimum payment in the current period and thus moves to state k+1. </br>\n",
    "<br> qk:  Probability that a customer in state k declares bankruptcy in the current period and thus moves to state D. </br>\n",
    "<br> bk:  Average outstanding balance of a customer in state k. </br>\n"
   ]
  },
  {
   "cell_type": "code",
   "execution_count": 1,
   "metadata": {
    "scrolled": true
   },
   "outputs": [],
   "source": [
    "# IMPORTING THE NECESSARY LIBRARIES\n",
    "import numpy as np\n",
    "from pydtmc import MarkovChain as mc\n",
    "import pydot\n",
    "from matplotlib import pyplot as plt"
   ]
  },
  {
   "cell_type": "code",
   "execution_count": 2,
   "metadata": {
    "scrolled": false
   },
   "outputs": [],
   "source": [
    "#dir(mc)"
   ]
  },
  {
   "cell_type": "markdown",
   "metadata": {},
   "source": [
    "###  Question 1\n",
    "Build a stochastic model using DTMC to help the management of VisaRuPay analyze the performance of this policy in a rational way. Assume that the state of an account changes in a Markov fashion and when a customer account is terminated or the customer declares bankruptcy, it simply replaces that account with an active one, so that number of accounts does not change. "
   ]
  },
  {
   "cell_type": "markdown",
   "metadata": {},
   "source": [
    "## TRANSITION PROBABILITY MATRIX"
   ]
  },
  {
   "cell_type": "code",
   "execution_count": 3,
   "metadata": {
    "scrolled": false
   },
   "outputs": [
    {
     "name": "stdout",
     "output_type": "stream",
     "text": [
      "[[0.967, 0.033, 0, 0, 0, 0, 0, 0], [0.952, 0, 0.048, 0, 0, 0, 0, 0], [0.91, 0, 0, 0.09, 0, 0, 0, 0], [0.835, 0, 0, 0, 0.165, 0, 0, 0], [0.788, 0, 0, 0, 0, 0.212, 0, 0], [0.713, 0, 0, 0, 0, 0, 0.287, 0], [0.671, 0, 0, 0, 0, 0, 0, 0.329], [1, 0, 0, 0, 0, 0, 0, 0]]\n"
     ]
    }
   ],
   "source": [
    "p = [0.033,0.048,0.090,0.165,0.212,0.287,0.329]\n",
    "p_bar = [round((1-i),3) for i in p]\n",
    "q = [0.030,0.021,0.037,0.052,0.075,0.135,0.182]\n",
    "b = [1243.78,2090.33,2615.16,3073.13,3502.99,3905.77,4280.26]\n",
    "\n",
    "n_states = 8\n",
    "# Defining the TPM\n",
    "TPM = []\n",
    "for i in range(n_states):\n",
    "    l = []\n",
    "    if i == 7:\n",
    "        l.append(1)\n",
    "    else:\n",
    "        l.append(p_bar[i])\n",
    "    for j in range(1,n_states):\n",
    "        if j==i+1:\n",
    "            l.append(p[i])\n",
    "        else:\n",
    "            l.append(0)\n",
    "    \n",
    "    TPM.append(l)\n",
    "print(TPM)"
   ]
  },
  {
   "cell_type": "code",
   "execution_count": 4,
   "metadata": {
    "scrolled": true
   },
   "outputs": [],
   "source": [
    "# Stochastic process\n",
    "\n",
    "process = mc(TPM, ['0','1','2','3','4','5','6','7'])\n",
    "#print(process)"
   ]
  },
  {
   "cell_type": "markdown",
   "metadata": {},
   "source": [
    "### Answer 1\n",
    "\n",
    "### DISCRETE-TIME MARKOV CHAIN\n",
    " SIZE:         8 </br>\n",
    " <br> CLASSES:      1 </br>\n",
    " <br> 1) RECURRENT: 1 </br>\n",
    " <br> 2) TRANSIENT: 0 </br>\n",
    " <br> ABSORBING:    NO </br>\n",
    " <br> APERIODIC:    YES </br>\n",
    " <br> IRREDUCIBLE:  YES </br>\n",
    " <br> ERGODIC:      YES </br>"
   ]
  },
  {
   "cell_type": "markdown",
   "metadata": {},
   "source": [
    "### Question 2\n",
    "\n",
    "Analyze the current policy (Pc), which terminates an account as soon as it misses the seventh minimum payment in a row by assuming expected annual loss due to bankruptcies and account closures as performance measure."
   ]
  },
  {
   "cell_type": "code",
   "execution_count": 5,
   "metadata": {
    "scrolled": false
   },
   "outputs": [
    {
     "name": "stdout",
     "output_type": "stream",
     "text": [
      "[9.66410498e-01 3.18915464e-02 1.53079423e-03 1.37771481e-04\n",
      " 2.27322943e-05 4.81924639e-06 1.38312371e-06 4.55047702e-07]\n"
     ]
    }
   ],
   "source": [
    "# STATIONARY DISTRIBUTION \n",
    "stat_dist = (process.pi)\n",
    "print(stat_dist[0])"
   ]
  },
  {
   "cell_type": "code",
   "execution_count": 26,
   "metadata": {
    "scrolled": true
   },
   "outputs": [
    {
     "data": {
      "image/png": "[encoded data removed]",
      "text/plain": [
       "<Figure size 432x288 with 1 Axes>"
      ]
     },
     "metadata": {
      "needs_background": "light"
     },
     "output_type": "display_data"
    },
    {
     "name": "stdout",
     "output_type": "stream",
     "text": [
      "The annual loss for the current policy is 526983497.34518766\n"
     ]
    }
   ],
   "source": [
    "###### Annual Loss per customer\n",
    "n_cust = 14*10**6\n",
    "\n",
    "def annual_loss_Pc(stat_dist, q, b, p, c):\n",
    "    annual_loss_pc = 0\n",
    "    for i in range(c):\n",
    "        annual_loss_pc += stat_dist[0][i]*q[i]*b[i]\n",
    "        #print(annual_loss_pc)\n",
    "    annual_loss_pc += stat_dist[0][c]*b[c-1]\n",
    "    return(annual_loss_pc)\n",
    "\n",
    "annual_losses_Pc = []\n",
    "for i in range(1,8):\n",
    "    annual_losses_Pc.append((annual_loss_Pc(stat_dist, q,b,p,i)))\n",
    "plt.plot([4,5,6,7],annual_losses_Pc[3:], color = 'red', marker = 'o')\n",
    "plt.legend(['Policy - C consecutive for termination'])\n",
    "plt.show()\n",
    "\n",
    "print(\"The annual loss for the current policy is\",min(annual_losses_Pc)*n_cust)\n"
   ]
  },
  {
   "cell_type": "markdown",
   "metadata": {},
   "source": [
    "### Answer 2\n",
    "\n",
    "### Annual loss of the company per customer is  526.988 million dollars.\n"
   ]
  },
  {
   "cell_type": "markdown",
   "metadata": {},
   "source": [
    "### Question 3\n",
    "\n",
    "Now VisaRuPay has been approached by a debt collection agency, SPI. If a customer declares bankruptcy, VisaRuPay loses the entire outstanding balance as before. However, if a customer does not declare bankruptcy, the company can decide to terminate the account and turn it over to the SPI company. If VisaRuPay decides to do this, SPI pay VisaRuPay 75% of the current outstanding balance on that account. When an account is turned over to SPI, it collects the outstanding balance on the account from the account holder by legal means. VisaRuPay also has to pay SPI an annual retainer fee of $ 50k for this service.\n",
    "\n",
    "VisaRuPay managmenet wants to decide if they should hire SPI and, if they do, when they should turn over an account to them. Suppose that VisaRuPay has 14 million accounts.\n"
   ]
  },
  {
   "cell_type": "markdown",
   "metadata": {},
   "source": [
    "### Solution\n",
    "\n",
    "We will consider 7 policies, \n",
    "Pm for every m belonging to: {0,1,2,3,4,5,6}\n",
    "\n",
    "Pm is the policy such that you will handover the customer to SPI, if the customer misses the minimum payment for m consecutive days. </br>\n",
    "\n",
    "<br>\n",
    "We will calculate the Expected income considering each policy, and select the optimal one, i.e the one with maximum expected value.  \n",
    "</br>\n"
   ]
  },
  {
   "cell_type": "code",
   "execution_count": 18,
   "metadata": {
    "scrolled": true
   },
   "outputs": [
    {
     "name": "stdout",
     "output_type": "stream",
     "text": [
      "7378140732.373878\n",
      "526983497.34518766\n"
     ]
    },
    {
     "data": {
      "image/png": "[encoded data removed]",
      "text/plain": [
       "<Figure size 432x288 with 1 Axes>"
      ]
     },
     "metadata": {
      "needs_background": "light"
     },
     "output_type": "display_data"
    }
   ],
   "source": [
    "# Number of Customers Annually\n",
    "n_cust = 14000000\n",
    "\n",
    "# Evaluating policies\n",
    "# m: policy parameter (i.e the handover condition)\n",
    "# stat_dist: stationary distribution of states\n",
    "# fixed_cost = fixed cost to be paid to SPI\n",
    "# prop = proportion of each outstanding balance SPI pays.\n",
    "# p = list of probabilities that the customer in state i \n",
    "#     fails to pay the minimum balance\n",
    "# q = list of probabilities that customer goes bankrupt at ith state.\n",
    "\n",
    "def ann_loss_Pm(stat_dist, m, fixed_cost, prop, p, q, b):\n",
    "    annual_loss = 0\n",
    "    for i in range(m):\n",
    "        annual_loss += stat_dist[0][i]*q[i]*b[i]\n",
    "    annual_loss += (1-prop)*b[m-1]*stat_dist[0][m]\n",
    "    return((annual_loss + fixed_cost/n_cust))\n",
    "\n",
    "\n",
    "annual_losses_Pm = []\n",
    "for i in range(2,7):\n",
    "    k = ann_loss_Pm(stat_dist, i, 50000, 0.75, p, q,b)*14\n",
    "    annual_losses_Pm.append(k)\n",
    "print(min(annual_losses_Pm)*n_cust)\n",
    "\n",
    "plt.plot([4,5,6,7],annual_losses_Pm[1:], color = 'green', marker = 'o')\n",
    "print(annual_loss_Pc(stat_dist, q,b,p,7)*n_cust)\n",
    "plt.axhline(y = annual_loss_Pc(stat_dist, q,b,p,7)*14, linestyle='dotted',color = 'red')\n",
    "plt.legend(['SPI policies for different values of m','Pc'])\n",
    "plt.title(\"SPI Policies v/s Current Policy\")\n",
    "plt.show()"
   ]
  },
  {
   "cell_type": "markdown",
   "metadata": {},
   "source": [
    "### Answer 3\n",
    "\n",
    "### The policy should not be accepted, as in the best case the expected annual loss for the 527.01 million dollars, but the current policy has a expected annual loss of 526.88 million dollar.\n"
   ]
  },
  {
   "cell_type": "markdown",
   "metadata": {},
   "source": [
    "### Question 4\n",
    "\n",
    "Suppose VisaRuPay has decided not to employ the services of SPI . However, this has generated discussion within the company about whether it should terminate accounts earlier. Let Tm (1≤m≤7)be the policy of terminating the account as soon as it misses m\n",
    "payments in a row. Which policy should VisaRuPay follow?"
   ]
  },
  {
   "cell_type": "code",
   "execution_count": 8,
   "metadata": {
    "scrolled": false
   },
   "outputs": [
    {
     "name": "stdout",
     "output_type": "stream",
     "text": [
      "7\n"
     ]
    }
   ],
   "source": [
    "annual_losses_Pc = []\n",
    "for i in range(1,8):\n",
    "    annual_losses_Pc.append((annual_loss_Pc(stat_dist, q,b,p,i)*n_cust/10**6))\n",
    "minimum = 10000\n",
    "argmin = 0\n",
    "for i,j in enumerate((annual_losses_Pc)):\n",
    "    if j < minimum:\n",
    "        minimum = j\n",
    "        argmin = i+1\n",
    "\n",
    "print(argmin)"
   ]
  },
  {
   "cell_type": "markdown",
   "metadata": {},
   "source": [
    "### Answer 4\n",
    "\n",
    "### The best policy is the current policy. i.e m = 7. "
   ]
  },
  {
   "cell_type": "markdown",
   "metadata": {},
   "source": [
    "### Question 5\n",
    "\n",
    "Consider the current policy Pc. One of the managers wants to see if it would help toalert the customers of their impending account termination in a more dire form by a phone call when the customer has missed six minimum payments in a row. This will cost a dollar per call.\n",
    "The manager estimates that this will decrease the missed payment probability from the current Pc = 0.329 to 0.250. Is this policy cost-effective?"
   ]
  },
  {
   "cell_type": "code",
   "execution_count": 9,
   "metadata": {},
   "outputs": [
    {
     "name": "stdout",
     "output_type": "stream",
     "text": [
      "Ratio of Loss decrement to the cost:  19.3637320026748\n"
     ]
    }
   ],
   "source": [
    "p_new = [0.033,0.048,0.090,0.165,0.212,0.287,0.250]\n",
    "p_bar_new = [round((1-i),3) for i in p_new]\n",
    "q = [0.030,0.021,0.037,0.052,0.075,0.135,0.182]\n",
    "b = [1243.78,2090.33,2615.16,3073.13,3502.99,3905.77,4280.26]\n",
    "\n",
    "n_states = 8\n",
    "# Defining the TPM\n",
    "TPM_new = []\n",
    "for i in range(n_states):\n",
    "    l = []\n",
    "    if i == 7:\n",
    "        l.append(1)\n",
    "    else:\n",
    "        l.append(p_bar_new[i])\n",
    "    for j in range(1,n_states):\n",
    "        if j==i+1:\n",
    "            l.append(p_new[i])\n",
    "        else:\n",
    "            l.append(0)\n",
    "    \n",
    "    TPM_new.append(l)\n",
    "#print(TPM_new)\n",
    "\n",
    "# Defining Markov Chain\n",
    "\n",
    "process = mc(TPM_new, ['0','1','2','3','4','5','6','7'])\n",
    "\n",
    "\n",
    "# STATIONARY DISTRIBUTION for new distribution.  \n",
    "stat_dist_1 = (process.pi)\n",
    "#print(stat_dist_1[0])\n",
    "\n",
    "loss_decrement = annual_loss_Pc(stat_dist, q,b,p,7) - annual_loss_Pc(stat_dist_1, q,b,p_new, 7)\n",
    "#print(loss_decrement*n_cust/(1*n_cust*stat_dist[0][6]))\n",
    "\n",
    "print(\"Ratio of Loss decrement to the cost: \",1*n_cust*stat_dist[0][6])"
   ]
  },
  {
   "cell_type": "markdown",
   "metadata": {},
   "source": [
    "### Answer 5\n",
    "### The ratio of loss decrement to the cost is nearly 19, which means that the policy of reminding through a phone call is favourable, and company should go for it. "
   ]
  },
  {
   "cell_type": "markdown",
   "metadata": {},
   "source": [
    "### Question  6\n",
    "\n",
    "The company has observed over the past year that the downturn in the economy has increased the bankruptcy rate by 50%. In this changed environment, should VisaRuPay engage the services of SPI? When should it turn over the accounts to SPI?"
   ]
  },
  {
   "cell_type": "code",
   "execution_count": 30,
   "metadata": {},
   "outputs": [
    {
     "name": "stdout",
     "output_type": "stream",
     "text": [
      "The least possible annual loss through the SPI = 790.4674404832914\n",
      "Loss if current policy is continued = 790.4616119604409\n"
     ]
    },
    {
     "data": {
      "image/png": "[encoded data removed]",
      "text/plain": [
       "<Figure size 432x288 with 1 Axes>"
      ]
     },
     "metadata": {
      "needs_background": "light"
     },
     "output_type": "display_data"
    }
   ],
   "source": [
    "## As the bankruptcy rate has been increased by 50%, the renewed\n",
    "## values of q are as shown below. \n",
    "q_new = [i*1.5 for i in q]\n",
    "annual_losses_Pms_incr_bankr = []\n",
    "for i in range(2,7):\n",
    "    k = ann_loss_Pm(stat_dist, i, 50000, 0.75, p, q_new,b)*14\n",
    "    annual_losses_Pms_incr_bankr.append(k)\n",
    "    \n",
    "val = min(annual_losses_Pms_incr_bankr)\n",
    "print(\"The least possible annual loss through the SPI =\",val)\n",
    "print(\"Loss if current policy is continued =\",annual_loss_Pc(stat_dist, q_new,b,p,7)*n_cust/10**6)\n",
    "\n",
    "plt.plot([4,5,6,7],annual_losses_Pms_incr_bankr[1:], color = 'green', marker = 'o')\n",
    "# print(annual_loss_Pc(stat_dist, q,b,p,7)*n_cust)\n",
    "plt.axhline(y = annual_loss_Pc(stat_dist, q_new,b,p,7)*14, linestyle='dotted',color = 'red')\n",
    "plt.legend(['SPI policies for different values of m','Pc'])\n",
    "plt.title(\"SPI Policies v/s Current Policy\")\n",
    "plt.show()"
   ]
  },
  {
   "cell_type": "markdown",
   "metadata": {},
   "source": [
    "### Answer 6\n",
    "\n",
    "### The services of the SPI should not be taken, as still the expected annual loss in the case of current policy is lesser than that of SPI. "
   ]
  },
  {
   "cell_type": "markdown",
   "metadata": {},
   "source": [
    "### Question 7\n",
    "VisaRuPay has been approached by another collection agency, which is willing to work with no annual service contract fee. However, it pays only 60% of the outstanding balance of of any account turned over to them. Is this option better than hiring SPI?"
   ]
  },
  {
   "cell_type": "code",
   "execution_count": 32,
   "metadata": {
    "scrolled": false
   },
   "outputs": [
    {
     "name": "stdout",
     "output_type": "stream",
     "text": [
      "[38.739948503216674, 37.7522413069217, 37.658083501910035, 37.64286481741388, 37.64081406106796]\n",
      "The Least expected annual loss in new option =  526.9713968549514\n",
      "The Least expected annual loss in SPI option =  527.0100523124198\n",
      "The current expected annual loss =  526.9834973451876\n"
     ]
    }
   ],
   "source": [
    "annual_losses_Pms_60 = []\n",
    "for i in range(2,7):\n",
    "    k = ann_loss_Pm(stat_dist, i, 0, 0.60, p, q,b)\n",
    "    annual_losses_Pms_60.append(k)\n",
    "print(annual_losses_Pms_60)\n",
    "print(\"The Least expected annual loss in new option = \",min(annual_losses_Pms_60)*n_cust/10**6)\n",
    "print(\"The Least expected annual loss in SPI option = \",min(annual_losses_Pm))\n",
    "print(\"The current expected annual loss = \",annual_loss_Pc(stat_dist, q,b,p,7)*n_cust/10**6)"
   ]
  },
  {
   "cell_type": "markdown",
   "metadata": {},
   "source": [
    "### Answer 7\n",
    "\n",
    "#### The least expected annual loss in new option is less than that in current policy, hence it should be considered as an option. "
   ]
  }
 ],
 "metadata": {
  "kernelspec": {
   "display_name": "Python 3",
   "language": "python",
   "name": "python3"
  },
  "language_info": {
   "codemirror_mode": {
    "name": "ipython",
    "version": 3
   },
   "file_extension": ".py",
   "mimetype": "text/x-python",
   "name": "python",
   "nbconvert_exporter": "python",
   "pygments_lexer": "ipython3",
   "version": "3.6.9"
  }
 },
 "nbformat": 4,
 "nbformat_minor": 2
}
